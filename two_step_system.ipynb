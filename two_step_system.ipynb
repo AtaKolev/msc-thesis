{
 "cells": [
  {
   "cell_type": "code",
   "execution_count": 1,
   "metadata": {},
   "outputs": [],
   "source": [
    "import pandas as pd\n",
    "import numpy as np\n",
    "import pickle"
   ]
  },
  {
   "cell_type": "code",
   "execution_count": 22,
   "metadata": {},
   "outputs": [],
   "source": [
    "def anomaly_detection(df, de_model, fe_model):\n",
    "    \n",
    "    de_signal = df['DE'].reset_index(drop = True)\n",
    "    fe_signal = df['FE'].reset_index(drop = True)\n",
    "\n",
    "    de_pred = de_model.predict(start=de_signal.index[0], end=de_signal.index[-1], dynamic = False)\n",
    "    fe_pred = fe_model.predict(start=fe_signal.index[0], end=fe_signal.index[-1], dynamic = False)\n",
    "\n",
    "    mse_de = np.mean((de_signal.values.reshape(-1, 1) - de_pred.values.reshape(-1, 1)) ** 2, axis = 1)\n",
    "    mse_fe = np.mean((fe_signal.values.reshape(-1, 1) - fe_pred.values.reshape(-1, 1)) ** 2, axis = 1)\n",
    "    avg_mse = (mse_de + mse_fe) / 2\n",
    "    best_thr = 0.013882980550933777\n",
    "    df['anomaly'] = np.where(avg_mse >= best_thr, 1, 0)\n",
    "    anomaly_df = df[df['anomaly'] == 1]\n",
    "\n",
    "    return df\n",
    "\n",
    "def classification(X, df, model):\n",
    "\n",
    "    classifier_thr = 0.21398088\n",
    "    predictions = model.predict_proba(X)[:, 1] # positive class probability\n",
    "    df['classifier_prediction'] = np.where(predictions >= classifier_thr, 1, 0)\n",
    "\n",
    "    return df\n",
    "\n",
    "def two_step_system(df):\n",
    "\n",
    "    with open('arima_model_de.pkl', 'rb') as pkl_file:\n",
    "        de_model = pickle.load(pkl_file)\n",
    "    with open('arima_model_fe.pkl', 'rb') as pkl_file:\n",
    "        fe_model = pickle.load(pkl_file)\n",
    "    with open('xgb_model.pkl', 'rb') as file:\n",
    "        classifier = pickle.load(file)\n",
    "\n",
    "    df = anomaly_detection(df, de_model, fe_model)\n",
    "    X_classifier = df[['DE', 'FE']]\n",
    "    df = classification(X_classifier, df, classifier)\n",
    "    df['final_prediction'] = np.where((df['anomaly'] == 1) & (df['classifier_prediction'] == 1), 1, 0)\n",
    "\n",
    "    return df"
   ]
  },
  {
   "cell_type": "code",
   "execution_count": 26,
   "metadata": {},
   "outputs": [],
   "source": [
    "def print_scores(y_true, y_pred):\n",
    "    print(f\"ROC AUC SCORE: {roc_auc_score(y_true, y_pred)}\")\n",
    "    print(f\"PRECISION SCORE: {precision_score(y_true, y_pred)}\")\n",
    "    print(f\"ACCURACY SCORE: {accuracy_score(y_true, y_pred)}\")\n",
    "    print(f\"RECALL SCORE: {recall_score(y_true, y_pred)}\")\n",
    "    print(f\"F1 SCORE: {f1_score(y_true, y_pred)}\")"
   ]
  },
  {
   "cell_type": "code",
   "execution_count": 3,
   "metadata": {},
   "outputs": [],
   "source": [
    "from sklearn.model_selection import train_test_split\n",
    "from sklearn.metrics import roc_curve, roc_auc_score, precision_score, recall_score, f1_score, accuracy_score, confusion_matrix"
   ]
  },
  {
   "cell_type": "code",
   "execution_count": 5,
   "metadata": {},
   "outputs": [],
   "source": [
    "df = pd.read_csv('parsed_data/case_edu_bearing_data/final_parsed_data/1730_case_edu.csv')\n",
    "df_fault = df[(df['fault_diameter'] == 14) & (df['fault_element'] == 1) & (df['fault'] == 1) & (df['fault_end'] == 2)]\n",
    "df_normal = df[df['fault'] == 0]\n",
    "\n",
    "df_final = pd.concat((df_normal, df_fault))\n",
    "df_final = df_final.sample(frac = 1)"
   ]
  },
  {
   "cell_type": "code",
   "execution_count": null,
   "metadata": {},
   "outputs": [],
   "source": []
  },
  {
   "cell_type": "code",
   "execution_count": 6,
   "metadata": {},
   "outputs": [],
   "source": [
    "de_train, de_test, fe_train, fe_test = train_test_split(df_final[df_final['fault'] == 0]['DE'], df_final[df_final['fault'] == 0]['FE'], test_size=0.25, random_state=42)\n",
    "faults = df_final[df_final['fault'] == 1][['DE', 'FE', 'fault']].sample(len(de_test)//2)\n",
    "de_test = pd.concat((de_test, faults['DE']))\n",
    "fe_test = pd.concat((fe_test, faults['FE']))\n",
    "y_test = df.loc[de_test.index, 'fault']"
   ]
  },
  {
   "cell_type": "code",
   "execution_count": 7,
   "metadata": {},
   "outputs": [
    {
     "data": {
      "text/plain": [
       "423786     0.000000\n",
       "435442     0.160634\n",
       "248598     0.036299\n",
       "353561     0.163554\n",
       "412864     0.078648\n",
       "             ...   \n",
       "3078474    0.011370\n",
       "3044382    0.686451\n",
       "3139520   -0.309601\n",
       "3096662    0.094375\n",
       "3075777   -0.323083\n",
       "Name: DE, Length: 182116, dtype: float64"
      ]
     },
     "execution_count": 7,
     "metadata": {},
     "output_type": "execute_result"
    }
   ],
   "source": [
    "de_test"
   ]
  },
  {
   "cell_type": "code",
   "execution_count": 8,
   "metadata": {},
   "outputs": [
    {
     "data": {
      "text/plain": [
       "423786     0.196004\n",
       "435442     0.033078\n",
       "248598    -0.015615\n",
       "353561     0.040885\n",
       "412864     0.046844\n",
       "             ...   \n",
       "3078474   -0.011788\n",
       "3044382   -1.135336\n",
       "3139520   -0.658113\n",
       "3096662    0.248774\n",
       "3075777   -1.750768\n",
       "Name: FE, Length: 182116, dtype: float64"
      ]
     },
     "execution_count": 8,
     "metadata": {},
     "output_type": "execute_result"
    }
   ],
   "source": [
    "fe_test"
   ]
  },
  {
   "cell_type": "code",
   "execution_count": 19,
   "metadata": {},
   "outputs": [],
   "source": [
    "df = pd.DataFrame({'DE' : de_test,\n",
    "                   'FE' : fe_test})"
   ]
  },
  {
   "cell_type": "code",
   "execution_count": 20,
   "metadata": {},
   "outputs": [
    {
     "data": {
      "text/html": [
       "<div>\n",
       "<style scoped>\n",
       "    .dataframe tbody tr th:only-of-type {\n",
       "        vertical-align: middle;\n",
       "    }\n",
       "\n",
       "    .dataframe tbody tr th {\n",
       "        vertical-align: top;\n",
       "    }\n",
       "\n",
       "    .dataframe thead th {\n",
       "        text-align: right;\n",
       "    }\n",
       "</style>\n",
       "<table border=\"1\" class=\"dataframe\">\n",
       "  <thead>\n",
       "    <tr style=\"text-align: right;\">\n",
       "      <th></th>\n",
       "      <th>DE</th>\n",
       "      <th>FE</th>\n",
       "    </tr>\n",
       "  </thead>\n",
       "  <tbody>\n",
       "    <tr>\n",
       "      <th>423786</th>\n",
       "      <td>0.000000</td>\n",
       "      <td>0.196004</td>\n",
       "    </tr>\n",
       "    <tr>\n",
       "      <th>435442</th>\n",
       "      <td>0.160634</td>\n",
       "      <td>0.033078</td>\n",
       "    </tr>\n",
       "    <tr>\n",
       "      <th>248598</th>\n",
       "      <td>0.036299</td>\n",
       "      <td>-0.015615</td>\n",
       "    </tr>\n",
       "    <tr>\n",
       "      <th>353561</th>\n",
       "      <td>0.163554</td>\n",
       "      <td>0.040885</td>\n",
       "    </tr>\n",
       "    <tr>\n",
       "      <th>412864</th>\n",
       "      <td>0.078648</td>\n",
       "      <td>0.046844</td>\n",
       "    </tr>\n",
       "    <tr>\n",
       "      <th>...</th>\n",
       "      <td>...</td>\n",
       "      <td>...</td>\n",
       "    </tr>\n",
       "    <tr>\n",
       "      <th>3078474</th>\n",
       "      <td>0.011370</td>\n",
       "      <td>-0.011788</td>\n",
       "    </tr>\n",
       "    <tr>\n",
       "      <th>3044382</th>\n",
       "      <td>0.686451</td>\n",
       "      <td>-1.135336</td>\n",
       "    </tr>\n",
       "    <tr>\n",
       "      <th>3139520</th>\n",
       "      <td>-0.309601</td>\n",
       "      <td>-0.658113</td>\n",
       "    </tr>\n",
       "    <tr>\n",
       "      <th>3096662</th>\n",
       "      <td>0.094375</td>\n",
       "      <td>0.248774</td>\n",
       "    </tr>\n",
       "    <tr>\n",
       "      <th>3075777</th>\n",
       "      <td>-0.323083</td>\n",
       "      <td>-1.750768</td>\n",
       "    </tr>\n",
       "  </tbody>\n",
       "</table>\n",
       "<p>182116 rows × 2 columns</p>\n",
       "</div>"
      ],
      "text/plain": [
       "               DE        FE\n",
       "423786   0.000000  0.196004\n",
       "435442   0.160634  0.033078\n",
       "248598   0.036299 -0.015615\n",
       "353561   0.163554  0.040885\n",
       "412864   0.078648  0.046844\n",
       "...           ...       ...\n",
       "3078474  0.011370 -0.011788\n",
       "3044382  0.686451 -1.135336\n",
       "3139520 -0.309601 -0.658113\n",
       "3096662  0.094375  0.248774\n",
       "3075777 -0.323083 -1.750768\n",
       "\n",
       "[182116 rows x 2 columns]"
      ]
     },
     "execution_count": 20,
     "metadata": {},
     "output_type": "execute_result"
    }
   ],
   "source": [
    "df"
   ]
  },
  {
   "cell_type": "code",
   "execution_count": 23,
   "metadata": {},
   "outputs": [],
   "source": [
    "y_pred = two_step_system(df)"
   ]
  },
  {
   "cell_type": "code",
   "execution_count": 25,
   "metadata": {},
   "outputs": [],
   "source": [
    "y_pred_bin = y_pred['final_prediction'].values"
   ]
  },
  {
   "cell_type": "code",
   "execution_count": 12,
   "metadata": {},
   "outputs": [],
   "source": [
    "with open('arima_model_de.pkl', 'rb') as pkl_file:\n",
    "    de_model = pickle.load(pkl_file)\n",
    "with open('arima_model_fe.pkl', 'rb') as pkl_file:\n",
    "    fe_model = pickle.load(pkl_file)"
   ]
  },
  {
   "cell_type": "code",
   "execution_count": 13,
   "metadata": {},
   "outputs": [],
   "source": [
    "de_signal = de_test\n",
    "fe_signal = fe_test"
   ]
  },
  {
   "cell_type": "code",
   "execution_count": 14,
   "metadata": {},
   "outputs": [
    {
     "ename": "KeyboardInterrupt",
     "evalue": "",
     "output_type": "error",
     "traceback": [
      "\u001b[1;31m---------------------------------------------------------------------------\u001b[0m",
      "\u001b[1;31mKeyboardInterrupt\u001b[0m                         Traceback (most recent call last)",
      "\u001b[1;32m~\\AppData\\Local\\Temp\\ipykernel_19952\\2753070536.py\u001b[0m in \u001b[0;36m<module>\u001b[1;34m\u001b[0m\n\u001b[1;32m----> 1\u001b[1;33m \u001b[0mde_pred\u001b[0m \u001b[1;33m=\u001b[0m \u001b[0mde_model\u001b[0m\u001b[1;33m.\u001b[0m\u001b[0mpredict\u001b[0m\u001b[1;33m(\u001b[0m\u001b[0mstart\u001b[0m\u001b[1;33m=\u001b[0m\u001b[0mde_signal\u001b[0m\u001b[1;33m.\u001b[0m\u001b[0mindex\u001b[0m\u001b[1;33m[\u001b[0m\u001b[1;36m0\u001b[0m\u001b[1;33m]\u001b[0m\u001b[1;33m,\u001b[0m \u001b[0mend\u001b[0m\u001b[1;33m=\u001b[0m\u001b[0mde_signal\u001b[0m\u001b[1;33m.\u001b[0m\u001b[0mindex\u001b[0m\u001b[1;33m[\u001b[0m\u001b[1;33m-\u001b[0m\u001b[1;36m1\u001b[0m\u001b[1;33m]\u001b[0m\u001b[1;33m,\u001b[0m \u001b[0mdynamic\u001b[0m \u001b[1;33m=\u001b[0m \u001b[1;32mFalse\u001b[0m\u001b[1;33m)\u001b[0m\u001b[1;33m\u001b[0m\u001b[1;33m\u001b[0m\u001b[0m\n\u001b[0m\u001b[0;32m      2\u001b[0m \u001b[1;31m#fe_pred = fe_model.predict(start=fe_signal.index[0], end=fe_signal.index[-1], dynamic = False)\u001b[0m\u001b[1;33m\u001b[0m\u001b[1;33m\u001b[0m\u001b[0m\n",
      "\u001b[1;32md:\\Anaconda\\lib\\site-packages\\statsmodels\\base\\wrapper.py\u001b[0m in \u001b[0;36mwrapper\u001b[1;34m(self, *args, **kwargs)\u001b[0m\n\u001b[0;32m    111\u001b[0m             \u001b[0mobj\u001b[0m \u001b[1;33m=\u001b[0m \u001b[0mdata\u001b[0m\u001b[1;33m.\u001b[0m\u001b[0mwrap_output\u001b[0m\u001b[1;33m(\u001b[0m\u001b[0mfunc\u001b[0m\u001b[1;33m(\u001b[0m\u001b[0mresults\u001b[0m\u001b[1;33m,\u001b[0m \u001b[1;33m*\u001b[0m\u001b[0margs\u001b[0m\u001b[1;33m,\u001b[0m \u001b[1;33m**\u001b[0m\u001b[0mkwargs\u001b[0m\u001b[1;33m)\u001b[0m\u001b[1;33m,\u001b[0m \u001b[0mhow\u001b[0m\u001b[1;33m[\u001b[0m\u001b[1;36m0\u001b[0m\u001b[1;33m]\u001b[0m\u001b[1;33m,\u001b[0m \u001b[0mhow\u001b[0m\u001b[1;33m[\u001b[0m\u001b[1;36m1\u001b[0m\u001b[1;33m:\u001b[0m\u001b[1;33m]\u001b[0m\u001b[1;33m)\u001b[0m\u001b[1;33m\u001b[0m\u001b[1;33m\u001b[0m\u001b[0m\n\u001b[0;32m    112\u001b[0m         \u001b[1;32melif\u001b[0m \u001b[0mhow\u001b[0m\u001b[1;33m:\u001b[0m\u001b[1;33m\u001b[0m\u001b[1;33m\u001b[0m\u001b[0m\n\u001b[1;32m--> 113\u001b[1;33m             \u001b[0mobj\u001b[0m \u001b[1;33m=\u001b[0m \u001b[0mdata\u001b[0m\u001b[1;33m.\u001b[0m\u001b[0mwrap_output\u001b[0m\u001b[1;33m(\u001b[0m\u001b[0mfunc\u001b[0m\u001b[1;33m(\u001b[0m\u001b[0mresults\u001b[0m\u001b[1;33m,\u001b[0m \u001b[1;33m*\u001b[0m\u001b[0margs\u001b[0m\u001b[1;33m,\u001b[0m \u001b[1;33m**\u001b[0m\u001b[0mkwargs\u001b[0m\u001b[1;33m)\u001b[0m\u001b[1;33m,\u001b[0m \u001b[0mhow\u001b[0m\u001b[1;33m)\u001b[0m\u001b[1;33m\u001b[0m\u001b[1;33m\u001b[0m\u001b[0m\n\u001b[0m\u001b[0;32m    114\u001b[0m         \u001b[1;32mreturn\u001b[0m \u001b[0mobj\u001b[0m\u001b[1;33m\u001b[0m\u001b[1;33m\u001b[0m\u001b[0m\n\u001b[0;32m    115\u001b[0m \u001b[1;33m\u001b[0m\u001b[0m\n",
      "\u001b[1;32md:\\Anaconda\\lib\\site-packages\\statsmodels\\tsa\\statespace\\mlemodel.py\u001b[0m in \u001b[0;36mpredict\u001b[1;34m(self, start, end, dynamic, **kwargs)\u001b[0m\n\u001b[0;32m   3401\u001b[0m         \"\"\"\n\u001b[0;32m   3402\u001b[0m         \u001b[1;31m# Perform the prediction\u001b[0m\u001b[1;33m\u001b[0m\u001b[1;33m\u001b[0m\u001b[0m\n\u001b[1;32m-> 3403\u001b[1;33m         \u001b[0mprediction_results\u001b[0m \u001b[1;33m=\u001b[0m \u001b[0mself\u001b[0m\u001b[1;33m.\u001b[0m\u001b[0mget_prediction\u001b[0m\u001b[1;33m(\u001b[0m\u001b[0mstart\u001b[0m\u001b[1;33m,\u001b[0m \u001b[0mend\u001b[0m\u001b[1;33m,\u001b[0m \u001b[0mdynamic\u001b[0m\u001b[1;33m,\u001b[0m \u001b[1;33m**\u001b[0m\u001b[0mkwargs\u001b[0m\u001b[1;33m)\u001b[0m\u001b[1;33m\u001b[0m\u001b[1;33m\u001b[0m\u001b[0m\n\u001b[0m\u001b[0;32m   3404\u001b[0m         \u001b[1;32mreturn\u001b[0m \u001b[0mprediction_results\u001b[0m\u001b[1;33m.\u001b[0m\u001b[0mpredicted_mean\u001b[0m\u001b[1;33m\u001b[0m\u001b[1;33m\u001b[0m\u001b[0m\n\u001b[0;32m   3405\u001b[0m \u001b[1;33m\u001b[0m\u001b[0m\n",
      "\u001b[1;32md:\\Anaconda\\lib\\site-packages\\statsmodels\\tsa\\statespace\\mlemodel.py\u001b[0m in \u001b[0;36mget_prediction\u001b[1;34m(self, start, end, dynamic, index, exog, extend_model, extend_kwargs, **kwargs)\u001b[0m\n\u001b[0;32m   3310\u001b[0m         \u001b[1;31m# This is a (k_endog x npredictions) array; do not want to squeeze in\u001b[0m\u001b[1;33m\u001b[0m\u001b[1;33m\u001b[0m\u001b[0m\n\u001b[0;32m   3311\u001b[0m         \u001b[1;31m# case of npredictions = 1\u001b[0m\u001b[1;33m\u001b[0m\u001b[1;33m\u001b[0m\u001b[0m\n\u001b[1;32m-> 3312\u001b[1;33m         prediction_results = self.filter_results.predict(\n\u001b[0m\u001b[0;32m   3313\u001b[0m             start, end + out_of_sample + 1, dynamic, **kwargs)\n\u001b[0;32m   3314\u001b[0m \u001b[1;33m\u001b[0m\u001b[0m\n",
      "\u001b[1;32md:\\Anaconda\\lib\\site-packages\\statsmodels\\tsa\\statespace\\kalman_filter.py\u001b[0m in \u001b[0;36mpredict\u001b[1;34m(self, start, end, dynamic, **kwargs)\u001b[0m\n\u001b[0;32m   2092\u001b[0m \u001b[1;33m\u001b[0m\u001b[0m\n\u001b[0;32m   2093\u001b[0m             \u001b[1;32mwith\u001b[0m \u001b[0mmodel\u001b[0m\u001b[1;33m.\u001b[0m\u001b[0mfixed_scale\u001b[0m\u001b[1;33m(\u001b[0m\u001b[0mself\u001b[0m\u001b[1;33m.\u001b[0m\u001b[0mscale\u001b[0m\u001b[1;33m)\u001b[0m\u001b[1;33m:\u001b[0m\u001b[1;33m\u001b[0m\u001b[1;33m\u001b[0m\u001b[0m\n\u001b[1;32m-> 2094\u001b[1;33m                 \u001b[0mresults\u001b[0m \u001b[1;33m=\u001b[0m \u001b[0mmodel\u001b[0m\u001b[1;33m.\u001b[0m\u001b[0mfilter\u001b[0m\u001b[1;33m(\u001b[0m\u001b[1;33m)\u001b[0m\u001b[1;33m\u001b[0m\u001b[1;33m\u001b[0m\u001b[0m\n\u001b[0m\u001b[0;32m   2095\u001b[0m \u001b[1;33m\u001b[0m\u001b[0m\n\u001b[0;32m   2096\u001b[0m         return PredictionResults(results, start, end, nstatic, ndynamic,\n",
      "\u001b[1;32md:\\Anaconda\\lib\\site-packages\\statsmodels\\tsa\\statespace\\kalman_filter.py\u001b[0m in \u001b[0;36mfilter\u001b[1;34m(self, filter_method, inversion_method, stability_method, conserve_memory, filter_timing, tolerance, loglikelihood_burn, complex_step)\u001b[0m\n\u001b[0;32m    957\u001b[0m         \u001b[0mresults\u001b[0m \u001b[1;33m=\u001b[0m \u001b[0mself\u001b[0m\u001b[1;33m.\u001b[0m\u001b[0mresults_class\u001b[0m\u001b[1;33m(\u001b[0m\u001b[0mself\u001b[0m\u001b[1;33m)\u001b[0m\u001b[1;33m\u001b[0m\u001b[1;33m\u001b[0m\u001b[0m\n\u001b[0;32m    958\u001b[0m         \u001b[0mresults\u001b[0m\u001b[1;33m.\u001b[0m\u001b[0mupdate_representation\u001b[0m\u001b[1;33m(\u001b[0m\u001b[0mself\u001b[0m\u001b[1;33m)\u001b[0m\u001b[1;33m\u001b[0m\u001b[1;33m\u001b[0m\u001b[0m\n\u001b[1;32m--> 959\u001b[1;33m         \u001b[0mresults\u001b[0m\u001b[1;33m.\u001b[0m\u001b[0mupdate_filter\u001b[0m\u001b[1;33m(\u001b[0m\u001b[0mkfilter\u001b[0m\u001b[1;33m)\u001b[0m\u001b[1;33m\u001b[0m\u001b[1;33m\u001b[0m\u001b[0m\n\u001b[0m\u001b[0;32m    960\u001b[0m \u001b[1;33m\u001b[0m\u001b[0m\n\u001b[0;32m    961\u001b[0m         \u001b[1;31m# Resent memory conservation\u001b[0m\u001b[1;33m\u001b[0m\u001b[1;33m\u001b[0m\u001b[0m\n",
      "\u001b[1;32md:\\Anaconda\\lib\\site-packages\\statsmodels\\tsa\\statespace\\kalman_filter.py\u001b[0m in \u001b[0;36mupdate_filter\u001b[1;34m(self, kalman_filter)\u001b[0m\n\u001b[0;32m   1690\u001b[0m                 \u001b[1;31m# improve clarity of results.\u001b[0m\u001b[1;33m\u001b[0m\u001b[1;33m\u001b[0m\u001b[0m\n\u001b[0;32m   1691\u001b[0m                 \u001b[1;32mif\u001b[0m \u001b[0mself\u001b[0m\u001b[1;33m.\u001b[0m\u001b[0mnmissing\u001b[0m\u001b[1;33m[\u001b[0m\u001b[0mt\u001b[0m\u001b[1;33m]\u001b[0m \u001b[1;33m>\u001b[0m \u001b[1;36m0\u001b[0m\u001b[1;33m:\u001b[0m\u001b[1;33m\u001b[0m\u001b[1;33m\u001b[0m\u001b[0m\n\u001b[1;32m-> 1692\u001b[1;33m                     \u001b[0mmask\u001b[0m \u001b[1;33m=\u001b[0m \u001b[1;33m~\u001b[0m\u001b[0mself\u001b[0m\u001b[1;33m.\u001b[0m\u001b[0mmissing\u001b[0m\u001b[1;33m[\u001b[0m\u001b[1;33m:\u001b[0m\u001b[1;33m,\u001b[0m \u001b[0mt\u001b[0m\u001b[1;33m]\u001b[0m\u001b[1;33m.\u001b[0m\u001b[0mastype\u001b[0m\u001b[1;33m(\u001b[0m\u001b[0mbool\u001b[0m\u001b[1;33m)\u001b[0m\u001b[1;33m\u001b[0m\u001b[1;33m\u001b[0m\u001b[0m\n\u001b[0m\u001b[0;32m   1693\u001b[0m                     \u001b[1;31m# We can recover forecasts\u001b[0m\u001b[1;33m\u001b[0m\u001b[1;33m\u001b[0m\u001b[0m\n\u001b[0;32m   1694\u001b[0m                     \u001b[1;31m# For partially missing observations, the Kalman filter\u001b[0m\u001b[1;33m\u001b[0m\u001b[1;33m\u001b[0m\u001b[0m\n",
      "\u001b[1;31mKeyboardInterrupt\u001b[0m: "
     ]
    }
   ],
   "source": [
    "de_pred = de_model.predict(start=de_signal.index[0], end=de_signal.index[-1], dynamic = False)\n",
    "#fe_pred = fe_model.predict(start=fe_signal.index[0], end=fe_signal.index[-1], dynamic = False)"
   ]
  },
  {
   "cell_type": "code",
   "execution_count": 27,
   "metadata": {},
   "outputs": [
    {
     "name": "stdout",
     "output_type": "stream",
     "text": [
      "ROC AUC SCORE: 0.5628243154940985\n",
      "PRECISION SCORE: 0.9954427083333334\n",
      "ACCURACY SCORE: 0.7084550506270728\n",
      "RECALL SCORE: 0.12593690799769378\n",
      "F1 SCORE: 0.22358704394238502\n"
     ]
    }
   ],
   "source": [
    "print_scores(y_test, y_pred_bin)"
   ]
  },
  {
   "cell_type": "code",
   "execution_count": 28,
   "metadata": {},
   "outputs": [
    {
     "name": "stdout",
     "output_type": "stream",
     "text": [
      "                   Predicted Positive  Predicted Negative\n",
      "Measured Positive                7645               53060\n",
      "Measured Negative                  35              121376\n",
      "ROC AUC SCORE: 0.5628243154940985\n",
      "PRECISION SCORE: 0.9954427083333334\n",
      "ACCURACY SCORE: 0.7084550506270728\n",
      "RECALL SCORE: 0.12593690799769378\n",
      "F1 SCORE: 0.22358704394238502\n"
     ]
    }
   ],
   "source": [
    "tn, fp, fn, tp = confusion_matrix(y_test, y_pred_bin).ravel()\n",
    "print(pd.DataFrame({'Predicted Positive' : [tp, fp],\n",
    "              'Predicted Negative' : [fn, tn]}, index = ['Measured Positive', 'Measured Negative']))\n",
    "print_scores(y_test, y_pred_bin)"
   ]
  },
  {
   "cell_type": "code",
   "execution_count": null,
   "metadata": {},
   "outputs": [],
   "source": []
  }
 ],
 "metadata": {
  "kernelspec": {
   "display_name": "base",
   "language": "python",
   "name": "python3"
  },
  "language_info": {
   "codemirror_mode": {
    "name": "ipython",
    "version": 3
   },
   "file_extension": ".py",
   "mimetype": "text/x-python",
   "name": "python",
   "nbconvert_exporter": "python",
   "pygments_lexer": "ipython3",
   "version": "3.9.13"
  }
 },
 "nbformat": 4,
 "nbformat_minor": 2
}
