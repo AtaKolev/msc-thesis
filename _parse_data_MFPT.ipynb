{
 "cells": [
  {
   "cell_type": "code",
   "execution_count": 1,
   "metadata": {},
   "outputs": [],
   "source": [
    "import pandas as pd\n",
    "import numpy as np\n",
    "from scipy.io import loadmat\n",
    "import yaml_parser\n",
    "import os\n",
    "from helper_functions import HelperFunctions"
   ]
  },
  {
   "cell_type": "code",
   "execution_count": 9,
   "metadata": {},
   "outputs": [],
   "source": [
    "data_catalog = yaml_parser.YAMLParser.read_yaml_file('D:\\Repositories\\msc-thesis\\constants\\data_catalog.yaml')"
   ]
  },
  {
   "cell_type": "code",
   "execution_count": 13,
   "metadata": {},
   "outputs": [],
   "source": [
    "for folder, paths in zip(data_catalog['mfpt_bearing_data'], list(data_catalog['mfpt_bearing_data'].values())):\n",
    "    for path in paths:\n",
    "        path = path"
   ]
  },
  {
   "cell_type": "code",
   "execution_count": 18,
   "metadata": {},
   "outputs": [
    {
     "data": {
      "text/plain": [
       "'PlanetBearing'"
      ]
     },
     "execution_count": 18,
     "metadata": {},
     "output_type": "execute_result"
    }
   ],
   "source": [
    "path.split('/')[-1].split('.')[0]"
   ]
  },
  {
   "cell_type": "code",
   "execution_count": null,
   "metadata": {},
   "outputs": [],
   "source": []
  },
  {
   "cell_type": "code",
   "execution_count": 7,
   "metadata": {},
   "outputs": [
    {
     "data": {
      "text/plain": [
       "(array([[97656]]), array([[ 0.8315881],\n",
       "       [ 0.0387017],\n",
       "       [ 0.4676445],\n",
       "       ...,\n",
       "       [-0.8111974],\n",
       "       [-0.3338806],\n",
       "       [-0.4876291]]), array([[270]], dtype=uint16), array([[25]], dtype=uint8))"
      ]
     },
     "execution_count": 7,
     "metadata": {},
     "output_type": "execute_result"
    }
   ],
   "source": [
    "dicti = loadmat('raw_data/MFPT_fault_dataset/1 - Three Baseline Conditions/baseline_1.mat')\n",
    "dicti['bearing'][0][0]"
   ]
  },
  {
   "cell_type": "code",
   "execution_count": 8,
   "metadata": {},
   "outputs": [
    {
     "data": {
      "text/html": [
       "<div>\n",
       "<style scoped>\n",
       "    .dataframe tbody tr th:only-of-type {\n",
       "        vertical-align: middle;\n",
       "    }\n",
       "\n",
       "    .dataframe tbody tr th {\n",
       "        vertical-align: top;\n",
       "    }\n",
       "\n",
       "    .dataframe thead th {\n",
       "        text-align: right;\n",
       "    }\n",
       "</style>\n",
       "<table border=\"1\" class=\"dataframe\">\n",
       "  <thead>\n",
       "    <tr style=\"text-align: right;\">\n",
       "      <th></th>\n",
       "      <th>gs</th>\n",
       "      <th>sr</th>\n",
       "      <th>load</th>\n",
       "      <th>rate</th>\n",
       "    </tr>\n",
       "  </thead>\n",
       "  <tbody>\n",
       "    <tr>\n",
       "      <th>0</th>\n",
       "      <td>0.831588</td>\n",
       "      <td>97656</td>\n",
       "      <td>270</td>\n",
       "      <td>25</td>\n",
       "    </tr>\n",
       "    <tr>\n",
       "      <th>1</th>\n",
       "      <td>0.038702</td>\n",
       "      <td>97656</td>\n",
       "      <td>270</td>\n",
       "      <td>25</td>\n",
       "    </tr>\n",
       "    <tr>\n",
       "      <th>2</th>\n",
       "      <td>0.467645</td>\n",
       "      <td>97656</td>\n",
       "      <td>270</td>\n",
       "      <td>25</td>\n",
       "    </tr>\n",
       "    <tr>\n",
       "      <th>3</th>\n",
       "      <td>0.661645</td>\n",
       "      <td>97656</td>\n",
       "      <td>270</td>\n",
       "      <td>25</td>\n",
       "    </tr>\n",
       "    <tr>\n",
       "      <th>4</th>\n",
       "      <td>1.770335</td>\n",
       "      <td>97656</td>\n",
       "      <td>270</td>\n",
       "      <td>25</td>\n",
       "    </tr>\n",
       "    <tr>\n",
       "      <th>...</th>\n",
       "      <td>...</td>\n",
       "      <td>...</td>\n",
       "      <td>...</td>\n",
       "      <td>...</td>\n",
       "    </tr>\n",
       "    <tr>\n",
       "      <th>585931</th>\n",
       "      <td>-0.212693</td>\n",
       "      <td>97656</td>\n",
       "      <td>270</td>\n",
       "      <td>25</td>\n",
       "    </tr>\n",
       "    <tr>\n",
       "      <th>585932</th>\n",
       "      <td>-0.960208</td>\n",
       "      <td>97656</td>\n",
       "      <td>270</td>\n",
       "      <td>25</td>\n",
       "    </tr>\n",
       "    <tr>\n",
       "      <th>585933</th>\n",
       "      <td>-0.811197</td>\n",
       "      <td>97656</td>\n",
       "      <td>270</td>\n",
       "      <td>25</td>\n",
       "    </tr>\n",
       "    <tr>\n",
       "      <th>585934</th>\n",
       "      <td>-0.333881</td>\n",
       "      <td>97656</td>\n",
       "      <td>270</td>\n",
       "      <td>25</td>\n",
       "    </tr>\n",
       "    <tr>\n",
       "      <th>585935</th>\n",
       "      <td>-0.487629</td>\n",
       "      <td>97656</td>\n",
       "      <td>270</td>\n",
       "      <td>25</td>\n",
       "    </tr>\n",
       "  </tbody>\n",
       "</table>\n",
       "<p>585936 rows × 4 columns</p>\n",
       "</div>"
      ],
      "text/plain": [
       "              gs     sr  load  rate\n",
       "0       0.831588  97656   270    25\n",
       "1       0.038702  97656   270    25\n",
       "2       0.467645  97656   270    25\n",
       "3       0.661645  97656   270    25\n",
       "4       1.770335  97656   270    25\n",
       "...          ...    ...   ...   ...\n",
       "585931 -0.212693  97656   270    25\n",
       "585932 -0.960208  97656   270    25\n",
       "585933 -0.811197  97656   270    25\n",
       "585934 -0.333881  97656   270    25\n",
       "585935 -0.487629  97656   270    25\n",
       "\n",
       "[585936 rows x 4 columns]"
      ]
     },
     "execution_count": 8,
     "metadata": {},
     "output_type": "execute_result"
    }
   ],
   "source": [
    "# Load the .mat file\n",
    "file_path = 'raw_data/MFPT_fault_dataset/1 - Three Baseline Conditions/baseline_1.mat'\n",
    "mat_data = loadmat(file_path)\n",
    "\n",
    "# Extract the dictionary\n",
    "bearing_data = mat_data.get('bearing')\n",
    "\n",
    "# Extract the gs field properly from its nested structure\n",
    "gs_data = bearing_data['gs'][0, 0].squeeze()\n",
    "\n",
    "# Extract other fields\n",
    "sr = bearing_data['sr'].item()\n",
    "load = bearing_data['load'].item()\n",
    "rate = bearing_data['rate'].item()\n",
    "\n",
    "# Broadcast scalar values to match the length of gs\n",
    "length = len(gs_data)\n",
    "sr_array = np.full(length, sr)\n",
    "load_array = np.full(length, load)\n",
    "rate_array = np.full(length, rate)\n",
    "\n",
    "# Create a DataFrame from the extracted data\n",
    "df = pd.DataFrame({\n",
    "    'gs': gs_data,\n",
    "    'sr': sr_array,\n",
    "    'load': load_array,\n",
    "    'rate': rate_array\n",
    "})\n",
    "df"
   ]
  },
  {
   "cell_type": "code",
   "execution_count": 19,
   "metadata": {},
   "outputs": [],
   "source": [
    "import data_parser"
   ]
  },
  {
   "cell_type": "code",
   "execution_count": 24,
   "metadata": {},
   "outputs": [
    {
     "data": {
      "text/plain": [
       "<module 'data_parser' from 'd:\\\\Repositories\\\\msc-thesis\\\\data_parser.py'>"
      ]
     },
     "execution_count": 24,
     "metadata": {},
     "output_type": "execute_result"
    }
   ],
   "source": [
    "import importlib\n",
    "importlib.reload(data_parser)"
   ]
  },
  {
   "cell_type": "code",
   "execution_count": 25,
   "metadata": {},
   "outputs": [],
   "source": [
    "mfpt_parser = data_parser.MFPTData()"
   ]
  },
  {
   "cell_type": "code",
   "execution_count": 22,
   "metadata": {},
   "outputs": [
    {
     "data": {
      "text/plain": [
       "{'baseline': ['raw_data/MFPT_fault_dataset/1 - Three Baseline Conditions/baseline_1.mat',\n",
       "  'raw_data/MFPT_fault_dataset/1 - Three Baseline Conditions/baseline_2.mat',\n",
       "  'raw_data/MFPT_fault_dataset/1 - Three Baseline Conditions/baseline_3.mat'],\n",
       " 'outer_race_faults': ['raw_data/MFPT_fault_dataset/2 - Three Outer Race Fault Conditions/OuterRaceFault_1.mat',\n",
       "  'raw_data/MFPT_fault_dataset/2 - Three Outer Race Fault Conditions/OuterRaceFault_2.mat',\n",
       "  'raw_data/MFPT_fault_dataset/2 - Three Outer Race Fault Conditions/OuterRaceFault_3.mat'],\n",
       " 'outer_race_fault_load_variaton': ['raw_data/MFPT_fault_dataset/3 - Seven More Outer Race Fault Conditions/OuterRaceFault_vload_1.mat',\n",
       "  'raw_data/MFPT_fault_dataset/3 - Seven More Outer Race Fault Conditions/OuterRaceFault_vload_2.mat',\n",
       "  'raw_data/MFPT_fault_dataset/3 - Seven More Outer Race Fault Conditions/OuterRaceFault_vload_3.mat',\n",
       "  'raw_data/MFPT_fault_dataset/3 - Seven More Outer Race Fault Conditions/OuterRaceFault_vload_4.mat',\n",
       "  'raw_data/MFPT_fault_dataset/3 - Seven More Outer Race Fault Conditions/OuterRaceFault_vload_5.mat',\n",
       "  'raw_data/MFPT_fault_dataset/3 - Seven More Outer Race Fault Conditions/OuterRaceFault_vload_6.mat',\n",
       "  'raw_data/MFPT_fault_dataset/3 - Seven More Outer Race Fault Conditions/OuterRaceFault_vload_7.mat'],\n",
       " 'inner_race_faults': ['raw_data/MFPT_fault_dataset/4 - Seven Inner Race Fault Conditions/InnerRaceFault_vload_1.mat',\n",
       "  'raw_data/MFPT_fault_dataset/4 - Seven Inner Race Fault Conditions/InnerRaceFault_vload_2.mat',\n",
       "  'raw_data/MFPT_fault_dataset/4 - Seven Inner Race Fault Conditions/InnerRaceFault_vload_3.mat',\n",
       "  'raw_data/MFPT_fault_dataset/4 - Seven Inner Race Fault Conditions/InnerRaceFault_vload_4.mat',\n",
       "  'raw_data/MFPT_fault_dataset/4 - Seven Inner Race Fault Conditions/InnerRaceFault_vload_5.mat',\n",
       "  'raw_data/MFPT_fault_dataset/4 - Seven Inner Race Fault Conditions/InnerRaceFault_vload_6.mat',\n",
       "  'raw_data/MFPT_fault_dataset/4 - Seven Inner Race Fault Conditions/InnerRaceFault_vload_7.mat'],\n",
       " 'real_world_examples': ['raw_data/MFPT_fault_dataset/6 - Real World Examples/IntermediateSpeedBearing.mat',\n",
       "  'raw_data/MFPT_fault_dataset/6 - Real World Examples/OilPumpBearing.mat',\n",
       "  'raw_data/MFPT_fault_dataset/6 - Real World Examples/PlanetBearing.mat']}"
      ]
     },
     "execution_count": 22,
     "metadata": {},
     "output_type": "execute_result"
    }
   ],
   "source": [
    "mfpt_parser.data_catalog['mfpt_bearing_data']"
   ]
  },
  {
   "cell_type": "code",
   "execution_count": 26,
   "metadata": {},
   "outputs": [
    {
     "name": "stdout",
     "output_type": "stream",
     "text": [
      "File parsed_data/MFPT/baseline/baseline_1.csv created. Continuing...\n",
      "File parsed_data/MFPT/baseline/baseline_2.csv created. Continuing...\n",
      "File parsed_data/MFPT/baseline/baseline_3.csv created. Continuing...\n",
      "File parsed_data/MFPT/outer_race_faults/OuterRaceFault_1.csv created. Continuing...\n",
      "File parsed_data/MFPT/outer_race_faults/OuterRaceFault_2.csv created. Continuing...\n",
      "File parsed_data/MFPT/outer_race_faults/OuterRaceFault_3.csv created. Continuing...\n",
      "File parsed_data/MFPT/outer_race_fault_load_variaton/OuterRaceFault_vload_1.csv created. Continuing...\n",
      "File parsed_data/MFPT/outer_race_fault_load_variaton/OuterRaceFault_vload_2.csv created. Continuing...\n",
      "File parsed_data/MFPT/outer_race_fault_load_variaton/OuterRaceFault_vload_3.csv created. Continuing...\n",
      "File parsed_data/MFPT/outer_race_fault_load_variaton/OuterRaceFault_vload_4.csv created. Continuing...\n",
      "File parsed_data/MFPT/outer_race_fault_load_variaton/OuterRaceFault_vload_5.csv created. Continuing...\n",
      "File parsed_data/MFPT/outer_race_fault_load_variaton/OuterRaceFault_vload_6.csv created. Continuing...\n",
      "File parsed_data/MFPT/outer_race_fault_load_variaton/OuterRaceFault_vload_7.csv created. Continuing...\n",
      "File parsed_data/MFPT/inner_race_faults/InnerRaceFault_vload_1.csv created. Continuing...\n",
      "File parsed_data/MFPT/inner_race_faults/InnerRaceFault_vload_2.csv created. Continuing...\n",
      "File parsed_data/MFPT/inner_race_faults/InnerRaceFault_vload_3.csv created. Continuing...\n",
      "File parsed_data/MFPT/inner_race_faults/InnerRaceFault_vload_4.csv created. Continuing...\n",
      "File parsed_data/MFPT/inner_race_faults/InnerRaceFault_vload_5.csv created. Continuing...\n",
      "File parsed_data/MFPT/inner_race_faults/InnerRaceFault_vload_6.csv created. Continuing...\n",
      "File parsed_data/MFPT/inner_race_faults/InnerRaceFault_vload_7.csv created. Continuing...\n",
      "File parsed_data/MFPT/real_world_examples/IntermediateSpeedBearing.csv created. Continuing...\n",
      "File parsed_data/MFPT/real_world_examples/OilPumpBearing.csv created. Continuing...\n",
      "File raw_data/MFPT_fault_dataset/6 - Real World Examples/PlanetBearing.mat not parsed. Reason: could not broadcast input array from shape (0,0) into shape (244160,)\n"
     ]
    }
   ],
   "source": [
    "mfpt_parser.main()"
   ]
  },
  {
   "cell_type": "code",
   "execution_count": null,
   "metadata": {},
   "outputs": [],
   "source": []
  }
 ],
 "metadata": {
  "kernelspec": {
   "display_name": "base",
   "language": "python",
   "name": "python3"
  },
  "language_info": {
   "codemirror_mode": {
    "name": "ipython",
    "version": 3
   },
   "file_extension": ".py",
   "mimetype": "text/x-python",
   "name": "python",
   "nbconvert_exporter": "python",
   "pygments_lexer": "ipython3",
   "version": "3.9.13"
  }
 },
 "nbformat": 4,
 "nbformat_minor": 2
}
